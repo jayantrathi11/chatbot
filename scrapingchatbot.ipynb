{
 "cells": [
  {
   "cell_type": "code",
   "execution_count": 91,
   "metadata": {},
   "outputs": [],
   "source": [
    "from bs4 import BeautifulSoup as bs\n",
    "import glob\n",
    "ans=list()"
   ]
  },
  {
   "cell_type": "code",
   "execution_count": 92,
   "metadata": {},
   "outputs": [],
   "source": [
    "#cdc site\n",
    "urls=glob.glob(r'D:\\scraping\\cdc\\*.html',recursive=True)\n",
    "for url in urls:\n",
    "    data=open(url,encoding=\"utf8\")\n",
    "    data=data.read()\n",
    "    data=bs(data,'html.parser')\n",
    "    file=data.find_all(class_='card bar')\n",
    "    for i in file:\n",
    "        question=i.span.string\n",
    "        g=i.find(class_='card-body')\n",
    "        answer=''\n",
    "        for j in g.stripped_strings:\n",
    "            answer=answer+j\n",
    "        ans.append([question,answer])\n",
    "    "
   ]
  },
  {
   "cell_type": "code",
   "execution_count": 93,
   "metadata": {},
   "outputs": [],
   "source": [
    "#info-coronavirus belgium site\n",
    "urls=glob.glob(r'D:\\scraping\\httpswww.info-coronavirus.beenfaq\\*.html',recursive=True)\n",
    "for url in urls :\n",
    "    data=open(url,encoding=\"utf8\")\n",
    "    data=data.read()\n",
    "    data=bs(data,'html.parser')        \n",
    "    data=data.find(class_='list').find_all('li')\n",
    "    for i in data:\n",
    "        if i.summary==None:\n",
    "            continue\n",
    "        question= i.summary.string\n",
    "        answer=''\n",
    "        for j in list(i.find(class_='faq-answer-wrapper').stripped_strings):\n",
    "            answer=answer+j\n",
    "        ans.append([question,answer])    \n",
    "        "
   ]
  },
  {
   "cell_type": "code",
   "execution_count": 94,
   "metadata": {},
   "outputs": [],
   "source": [
    "#new york times\n",
    "urls=glob.glob(r'D:\\scraping\\nyt.html',recursive=True)\n",
    "data=open(urls[0],encoding=\"utf8\")\n",
    "data=data.read()\n",
    "data=bs(data,'html.parser')\n",
    "data=data.find_all(class_='g-section-wrap g-questions g-body')\n",
    "for i in data:\n",
    "    j=i.find_all('div')\n",
    "    for k in j:\n",
    "        if k.find(class_='g-question')==None:\n",
    "            continue\n",
    "        questions=list(k.find(class_='g-question').stripped_strings)[0]\n",
    "        answers=k.p.text\n",
    "        ans.append([questions,answers])\n",
    "        "
   ]
  },
  {
   "cell_type": "code",
   "execution_count": 95,
   "metadata": {},
   "outputs": [],
   "source": [
    "#usa fda \n",
    "urls=glob.glob(r'D:\\scraping\\usa-fda.html',recursive=True)\n",
    "data=open(urls[0],encoding=\"utf8\")\n",
    "data=data.read()\n",
    "data=bs(data,'html.parser')\n",
    "data=data.find_all(class_='panel panel-default fda-accordion-panel')\n",
    "for i in data:\n",
    "    question=list(i.h2.a.string)[3:]\n",
    "    question=\"\".join(question)\n",
    "    answer=i.find(class_='panel-collapse collapse in')\n",
    "    if i.p.string==None:\n",
    "        continue\n",
    "    answer=list(i.p.string)[3:]\n",
    "    answer=\"\".join(answer)\n",
    "    ans.append([question,answer])\n",
    "    "
   ]
  },
  {
   "cell_type": "code",
   "execution_count": 96,
   "metadata": {},
   "outputs": [
    {
     "data": {
      "text/plain": [
       "616"
      ]
     },
     "execution_count": 96,
     "metadata": {},
     "output_type": "execute_result"
    }
   ],
   "source": [
    "len(ans)"
   ]
  },
  {
   "cell_type": "code",
   "execution_count": 97,
   "metadata": {},
   "outputs": [],
   "source": [
    "import pandas as pd\n",
    "csv=pd.DataFrame(ans)\n",
    "csv.to_csv('faq.csv')"
   ]
  }
 ],
 "metadata": {
  "kernelspec": {
   "display_name": "Python 3",
   "language": "python",
   "name": "python3"
  },
  "language_info": {
   "codemirror_mode": {
    "name": "ipython",
    "version": 3
   },
   "file_extension": ".py",
   "mimetype": "text/x-python",
   "name": "python",
   "nbconvert_exporter": "python",
   "pygments_lexer": "ipython3",
   "version": "3.7.6"
  }
 },
 "nbformat": 4,
 "nbformat_minor": 4
}
